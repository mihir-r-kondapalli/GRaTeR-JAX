{
 "cells": [
  {
   "cell_type": "code",
   "execution_count": 1,
   "id": "80a6cf75",
   "metadata": {},
   "outputs": [
    {
     "name": "stderr",
     "output_type": "stream",
     "text": [
      "/home/blewis/anaconda3/lib/python3.12/site-packages/cupyx/jit/_interface.py:173: FutureWarning: cupyx.jit.rawkernel is experimental. The interface can change in the future.\n",
      "  cupy._util.experimental('cupyx.jit.rawkernel')\n"
     ]
    },
    {
     "name": "stdout",
     "output_type": "stream",
     "text": [
      "webbpsf_ext log messages of level WARN and above will be shown.\n",
      "webbpsf_ext log outputs will be directed to the screen.\n",
      "CuPy succesfully imported. Using GPU where applicable. Set use_gpu=False to override this functionality.\n"
     ]
    }
   ],
   "source": [
    "import GPI_init_fit as gpi\n",
    "import numpy as np\n",
    "import matplotlib.pyplot as plt\n",
    "import optimization.interpolated_univariate_spline as spline_func\n",
    "from astropy.stats import bayesian_info_criterion as bic\n",
    "from astropy.stats import akaike_info_criterion as aic"
   ]
  },
  {
   "cell_type": "code",
   "execution_count": 2,
   "id": "b8f71ee0",
   "metadata": {},
   "outputs": [],
   "source": [
    "import os\n",
    "os.environ[\"WEBBPSF_PATH\"] = 'webbpsf-data'\n",
    "os.environ[\"WEBBPSF_EXT_PATH\"] = 'webbpsf-data'\n",
    "os.environ[\"PYSYN_CDBS\"] = \"cdbs\"\n",
    "from astropy.io import fits\n",
    "import jax\n",
    "import jax.numpy as jnp\n",
    "import matplotlib.pyplot as plt\n",
    "import numpy as np\n",
    "import os\n",
    "os.environ['XLA_PYTHON_CLIENT_MEM_FRACTION'] = '0.3'\n",
    "jax.config.update(\"jax_enable_x64\", True)\n",
    "import pandas as pd\n",
    "from optimization.optimize_framework import Optimizer, OptimizeUtils\n",
    "from disk_model.objective_functions import objective_model, objective_ll, objective_fit, Parameter_Index\n",
    "from disk_model.SLD_ojax import ScatteredLightDisk\n",
    "from disk_model.SLD_utils import *"
   ]
  },
  {
   "cell_type": "code",
   "execution_count": 3,
   "id": "ed8fa908",
   "metadata": {},
   "outputs": [],
   "source": [
    "name = 'hd145560_H_pol'\n",
    "fits_image_filepath = \"/home/blewis/GPI_data/\" + str(name) + \".fits\"\n",
    "hdul = fits.open(fits_image_filepath)"
   ]
  },
  {
   "cell_type": "code",
   "execution_count": 4,
   "id": "846206f9",
   "metadata": {},
   "outputs": [],
   "source": [
    "target_image = OptimizeUtils.process_image(hdul['SCI'].data[1,:,:])\n",
    "err_map = OptimizeUtils.process_image(OptimizeUtils.create_empirical_err_map(hdul['SCI'].data[2,:,:]))\n",
    "misc_params = Parameter_Index.misc_params"
   ]
  },
  {
   "cell_type": "code",
   "execution_count": 5,
   "id": "d562d506",
   "metadata": {},
   "outputs": [],
   "source": [
    "num_knots = 4\n",
    "\n",
    "spf_params = InterpolatedUnivariateSpline_SPF.params\n",
    "psf_params = EMP_PSF.params\n",
    "disk_params = Parameter_Index.disk_params\n",
    "\n",
    "image_data = pd.read_csv('image_info_filt.csv')\n",
    "image_data.set_index(\"Name\", inplace=True)\n",
    "image_data.columns = [\"Radius\", \"Inclination\", \"Position Angle\", \"Distance\", \"a_in\", \"a_out\", \"eccentricity\", \"ksi0\", \"gamma\", \"beta\", \"omega\", \"x_center\", \"y_center\", \"knots\"]\n",
    "row = image_data.loc[name]\n",
    "\n",
    "disk_params['sma'] = row[\"Radius\"]\n",
    "disk_params['inclination'] = row[\"Inclination\"]\n",
    "disk_params['position_angle'] = row[\"Position Angle\"]\n",
    "misc_params['distance'] = row[\"Distance\"]\n",
    "spf_params['num_knots'] = num_knots\n",
    "spf_params['knot_values'] = jnp.full(spf_params['num_knots'],0.5)\n",
    "disk_params['alpha_in'] = row['a_in']\n",
    "disk_params['alpha_out'] = row['a_out']\n",
    "disk_params['e'] = row['eccentricity']\n",
    "disk_params['ksi0'] = row['ksi0']\n",
    "disk_params['gamma'] = row['gamma']\n",
    "disk_params['beta'] = row['beta']\n",
    "disk_params['omega'] = row['omega']\n",
    "disk_params['x_center'] = 70\n",
    "disk_params['y_center'] = 70"
   ]
  },
  {
   "cell_type": "code",
   "execution_count": 6,
   "id": "ca38c462",
   "metadata": {},
   "outputs": [
    {
     "name": "stderr",
     "output_type": "stream",
     "text": [
      "E0519 13:31:59.553285 3067718 pjrt_stream_executor_client.cc:3026] Execution of replica 0 failed: RESOURCE_EXHAUSTED: Failed to launch CUDA kernel: loop_atan2_divide_fusion; block dims: 128x1x1; grid dims: 154x1x1; shared memory size: 0: CUDA_ERROR_OUT_OF_MEMORY: out of memory\n"
     ]
    },
    {
     "name": "stdout",
     "output_type": "stream",
     "text": [
      "Unexpected exception formatting exception. Falling back to standard exception\n"
     ]
    },
    {
     "name": "stderr",
     "output_type": "stream",
     "text": [
      "Traceback (most recent call last):\n",
      "  File \"/home/blewis/anaconda3/lib/python3.12/site-packages/IPython/core/interactiveshell.py\", line 3577, in run_code\n",
      "    exec(code_obj, self.user_global_ns, self.user_ns)\n",
      "  File \"/tmp/ipykernel_3067718/400182418.py\", line 5, in <module>\n",
      "    opt.scale_initial_knots(target_image)\n",
      "  File \"/home/blewis/GRaTeR-JAX/optimization/optimize_framework.py\", line 208, in scale_initial_knots\n",
      "    init_image = self.model()\n",
      "                 ^^^^^^^^^^^^\n",
      "  File \"/home/blewis/GRaTeR-JAX/optimization/optimize_framework.py\", line 22, in model\n",
      "    return objective_model(\n",
      "           ^^^^^^^^^^^^^^^^\n",
      "  File \"/home/blewis/GRaTeR-JAX/disk_model/objective_functions.py\", line 236, in objective_model\n",
      "    model_image = jax_model_spline(\n",
      "                  ^^^^^^^^^^^^^^^^^\n",
      "  File \"/home/blewis/anaconda3/lib/python3.12/site-packages/jax/_src/traceback_util.py\", line 180, in reraise_with_filtered_traceback\n",
      "    return fun(*args, **kwargs)\n",
      "           ^^^^^^^^^^^^^^^^^^^^\n",
      "  File \"/home/blewis/anaconda3/lib/python3.12/site-packages/jax/_src/pjit.py\", line 341, in cache_miss\n",
      "    pgle_profiler) = _python_pjit_helper(fun, jit_info, *args, **kwargs)\n",
      "                     ^^^^^^^^^^^^^^^^^^^^^^^^^^^^^^^^^^^^^^^^^^^^^^^^^^^\n",
      "  File \"/home/blewis/anaconda3/lib/python3.12/site-packages/jax/_src/pjit.py\", line 195, in _python_pjit_helper\n",
      "    out_flat, compiled, profiler = _pjit_call_impl_python(*args_flat, **p.params)\n",
      "                                   ^^^^^^^^^^^^^^^^^^^^^^^^^^^^^^^^^^^^^^^^^^^^^^\n",
      "  File \"/home/blewis/anaconda3/lib/python3.12/site-packages/jax/_src/pjit.py\", line 1679, in _pjit_call_impl_python\n",
      "    return compiled.unsafe_call(*args), compiled, pgle_profiler\n",
      "           ^^^^^^^^^^^^^^^^^^^^^^^^^^^\n",
      "  File \"/home/blewis/anaconda3/lib/python3.12/site-packages/jax/_src/profiler.py\", line 334, in wrapper\n",
      "    return func(*args, **kwargs)\n",
      "           ^^^^^^^^^^^^^^^^^^^^^\n",
      "  File \"/home/blewis/anaconda3/lib/python3.12/site-packages/jax/_src/interpreters/pxla.py\", line 1296, in __call__\n",
      "    results = self.xla_executable.execute_sharded(input_bufs)\n",
      "              ^^^^^^^^^^^^^^^^^^^^^^^^^^^^^^^^^^^^^^^^^^^^^^^\n",
      "jaxlib.xla_extension.XlaRuntimeError: RESOURCE_EXHAUSTED: Failed to launch CUDA kernel: loop_atan2_divide_fusion; block dims: 128x1x1; grid dims: 154x1x1; shared memory size: 0: CUDA_ERROR_OUT_OF_MEMORY: out of memory\n",
      "\n",
      "During handling of the above exception, another exception occurred:\n",
      "\n",
      "Traceback (most recent call last):\n",
      "  File \"/home/blewis/anaconda3/lib/python3.12/site-packages/IPython/core/interactiveshell.py\", line 2168, in showtraceback\n",
      "    stb = self.InteractiveTB.structured_traceback(\n",
      "          ^^^^^^^^^^^^^^^^^^^^^^^^^^^^^^^^^^^^^^^^\n",
      "  File \"/home/blewis/anaconda3/lib/python3.12/site-packages/IPython/core/ultratb.py\", line 1457, in structured_traceback\n",
      "    return FormattedTB.structured_traceback(\n",
      "           ^^^^^^^^^^^^^^^^^^^^^^^^^^^^^^^^^\n",
      "  File \"/home/blewis/anaconda3/lib/python3.12/site-packages/IPython/core/ultratb.py\", line 1348, in structured_traceback\n",
      "    return VerboseTB.structured_traceback(\n",
      "           ^^^^^^^^^^^^^^^^^^^^^^^^^^^^^^^\n",
      "  File \"/home/blewis/anaconda3/lib/python3.12/site-packages/IPython/core/ultratb.py\", line 1195, in structured_traceback\n",
      "    formatted_exception = self.format_exception_as_a_whole(etype, evalue, etb, number_of_lines_of_context,\n",
      "                          ^^^^^^^^^^^^^^^^^^^^^^^^^^^^^^^^^^^^^^^^^^^^^^^^^^^^^^^^^^^^^^^^^^^^^^^^^^^^^^^^\n",
      "  File \"/home/blewis/anaconda3/lib/python3.12/site-packages/IPython/core/ultratb.py\", line 1110, in format_exception_as_a_whole\n",
      "    frames.append(self.format_record(record))\n",
      "                  ^^^^^^^^^^^^^^^^^^^^^^^^^^\n",
      "  File \"/home/blewis/anaconda3/lib/python3.12/site-packages/IPython/core/ultratb.py\", line 992, in format_record\n",
      "    frame_info.lines, Colors, self.has_colors, lvals\n",
      "    ^^^^^^^^^^^^^^^^\n",
      "  File \"/home/blewis/anaconda3/lib/python3.12/site-packages/IPython/core/ultratb.py\", line 804, in lines\n",
      "    return self._sd.lines\n",
      "           ^^^^^^^^^^^^^^\n",
      "  File \"/home/blewis/.local/lib/python3.12/site-packages/stack_data/utils.py\", line 145, in cached_property_wrapper\n",
      "    value = obj.__dict__[self.func.__name__] = self.func(obj)\n",
      "                                               ^^^^^^^^^^^^^^\n",
      "  File \"/home/blewis/.local/lib/python3.12/site-packages/stack_data/core.py\", line 734, in lines\n",
      "    pieces = self.included_pieces\n",
      "             ^^^^^^^^^^^^^^^^^^^^\n",
      "  File \"/home/blewis/.local/lib/python3.12/site-packages/stack_data/utils.py\", line 145, in cached_property_wrapper\n",
      "    value = obj.__dict__[self.func.__name__] = self.func(obj)\n",
      "                                               ^^^^^^^^^^^^^^\n",
      "  File \"/home/blewis/.local/lib/python3.12/site-packages/stack_data/core.py\", line 677, in included_pieces\n",
      "    scope_pieces = self.scope_pieces\n",
      "                   ^^^^^^^^^^^^^^^^^\n",
      "  File \"/home/blewis/.local/lib/python3.12/site-packages/stack_data/utils.py\", line 145, in cached_property_wrapper\n",
      "    value = obj.__dict__[self.func.__name__] = self.func(obj)\n",
      "                                               ^^^^^^^^^^^^^^\n",
      "  File \"/home/blewis/.local/lib/python3.12/site-packages/stack_data/core.py\", line 614, in scope_pieces\n",
      "    scope_start, scope_end = self.source.line_range(self.scope)\n",
      "                             ^^^^^^^^^^^^^^^^^^^^^^^^^^^^^^^^^^\n",
      "  File \"/home/blewis/.local/lib/python3.12/site-packages/stack_data/core.py\", line 178, in line_range\n",
      "    return line_range(self.asttext(), node)\n",
      "                      ^^^^^^^^^^^^\n",
      "AttributeError: 'Source' object has no attribute 'asttext'\n"
     ]
    }
   ],
   "source": [
    "opt = Optimizer(disk_params, spf_params, psf_params, misc_params, \n",
    "                ScatteredLightDisk, DustEllipticalDistribution2PowerLaws, InterpolatedUnivariateSpline_SPF, EMP_PSF)\n",
    "fit_keys = ['alpha_in', 'alpha_out', 'sma', 'e', 'ksi0','gamma','beta','omega','inclination', 'position_angle', 'x_center', 'y_center', 'flux_scaling','knot_values']\n",
    "opt.inc_bound_knots()\n",
    "opt.scale_initial_knots(target_image)\n",
    "soln = opt.scipy_optimize(fit_keys, target_image, err_map, disp_soln=True,iters = 1000)\n",
    "opt.scale_spline_to_fixed_point(0, 1)\n",
    "optimal_image = opt.model()\n",
    "optimal_ll = opt.log_likelihood(target_image,err_map)"
   ]
  },
  {
   "cell_type": "code",
   "execution_count": null,
   "id": "18cd0b1b",
   "metadata": {},
   "outputs": [],
   "source": [
    "opt.print_params()"
   ]
  },
  {
   "cell_type": "code",
   "execution_count": null,
   "id": "1055d85f",
   "metadata": {},
   "outputs": [],
   "source": [
    "fig, axes = plt.subplots(1,3, figsize=(20,10))\n",
    "mask = OptimizeUtils.get_mask(target_image)\n",
    "vmin = np.nanpercentile(target_image[mask], 1)\n",
    "vmax = np.nanpercentile(target_image[mask], 99)\n",
    "\n",
    "xmax=70\n",
    "extent = [-(xmax*14.1)/2000, (xmax*14.1)/2000, (xmax*14.1)/2000, -(xmax*14.1)/2000]\n",
    "\n",
    "for ax in axes:\n",
    "    ax.tick_params(axis='both', which='major', labelsize=12)\n",
    "\n",
    "im = axes[0].imshow(target_image, origin='lower', cmap='inferno',extent=extent,vmin=vmin,vmax=vmax)\n",
    "axes[0].set_title(\"Data\",fontsize=16)\n",
    "axes[0].set_ylabel('$\\Delta$RA (arcsec)',fontsize=14)\n",
    "axes[0].set_xlabel('$\\Delta$Dec (arcsec)',fontsize=14)\n",
    "#plt.colorbar(im, ax=axes[0], shrink=0.5)\n",
    "im.set_clim(vmin, vmax)\n",
    "\n",
    "im = axes[1].imshow(optimal_image, origin='lower', cmap='inferno',extent=extent,vmin=vmin,vmax=vmax)\n",
    "axes[1].set_title(\"Initial Best Fit Model\",fontsize=16)\n",
    "#plt.colorbar(im, ax=axes[1], shrink=0.5)\n",
    "im.set_clim(vmin, vmax)\n",
    "axes[1].set_xlabel('$\\Delta$Dec (arcsec)',fontsize=14)\n",
    "\n",
    "im = axes[2].imshow(target_image-optimal_image, origin='lower', cmap='inferno',extent=extent,vmin=vmin,vmax=10)\n",
    "axes[2].set_title(\"Residuals\",fontsize=16)\n",
    "im.set_clim(vmin, vmax)\n",
    "axes[2].set_xlabel('$\\Delta$Dec (arcsec)',fontsize=14)\n",
    "plt.tight_layout()\n",
    "cb = plt.colorbar(im, ax=axes, shrink=0.5,pad=0.01)\n",
    "cb.set_label('Arbitrary Flux Units',fontsize=14)#,rotation=270)\n",
    "cb.ax.tick_params(labelsize=12)\n",
    "plt.savefig('../GPI_results/{}_init_fit.png'.format(name))"
   ]
  },
  {
   "cell_type": "code",
   "execution_count": null,
   "id": "9b030793",
   "metadata": {},
   "outputs": [],
   "source": [
    "spf1 = opt.spf_params\n",
    "\n",
    "hi = np.rad2deg(np.arccos(spf1['low_bound']))\n",
    "lo = np.rad2deg(np.arccos(spf1['up_bound']))\n",
    "print(hi,lo)\n",
    "\n",
    "print(spf1['knot_values'])\n",
    "spf = spline_func.InterpolatedUnivariateSpline(np.linspace(lo,hi,num_knots),spf1['knot_values'])\n",
    "\n",
    "func = spf.__call__(np.linspace(0,180,100))\n",
    "\n",
    "import matplotlib.pyplot as plt\n",
    "plt.plot(np.linspace(0,180,100),func)\n",
    "plt.scatter(np.linspace(lo,hi,num_knots),spf1['knot_values'],color='orange')\n",
    "\n",
    "###CHANGE NAMES\n",
    "plt.title('HR 4796A Pol SPF Initial Fit (9 knots)')\n",
    "plt.xlabel('Scattering Angle (degrees)')\n",
    "plt.ylabel('Arbitrary Units')\n",
    "plt.savefig('../GPI_results/best_fits/hd145560_pol_spf_init.png',bbox_inches='tight')"
   ]
  }
 ],
 "metadata": {
  "kernelspec": {
   "display_name": "base",
   "language": "python",
   "name": "python3"
  },
  "language_info": {
   "codemirror_mode": {
    "name": "ipython",
    "version": 3
   },
   "file_extension": ".py",
   "mimetype": "text/x-python",
   "name": "python",
   "nbconvert_exporter": "python",
   "pygments_lexer": "ipython3",
   "version": "3.12.7"
  }
 },
 "nbformat": 4,
 "nbformat_minor": 5
}
