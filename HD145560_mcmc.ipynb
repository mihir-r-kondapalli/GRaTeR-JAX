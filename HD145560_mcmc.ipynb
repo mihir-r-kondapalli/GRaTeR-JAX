{
 "cells": [
  {
   "cell_type": "code",
   "execution_count": 1,
   "id": "80a6cf75",
   "metadata": {},
   "outputs": [
    {
     "name": "stderr",
     "output_type": "stream",
     "text": [
      "/home/blewis/anaconda3/lib/python3.12/site-packages/cupyx/jit/_interface.py:173: FutureWarning: cupyx.jit.rawkernel is experimental. The interface can change in the future.\n",
      "  cupy._util.experimental('cupyx.jit.rawkernel')\n"
     ]
    },
    {
     "name": "stdout",
     "output_type": "stream",
     "text": [
      "webbpsf_ext log messages of level WARN and above will be shown.\n",
      "webbpsf_ext log outputs will be directed to the screen.\n",
      "CuPy succesfully imported. Using GPU where applicable. Set use_gpu=False to override this functionality.\n"
     ]
    }
   ],
   "source": [
    "import GPI_init_fit as gpi\n",
    "import numpy as np\n",
    "import matplotlib.pyplot as plt\n",
    "import optimization.interpolated_univariate_spline as spline_func\n",
    "from astropy.stats import bayesian_info_criterion as bic\n",
    "from astropy.stats import akaike_info_criterion as aic\n",
    "\n",
    "import os\n",
    "os.environ[\"WEBBPSF_PATH\"] = 'webbpsf-data'\n",
    "os.environ[\"WEBBPSF_EXT_PATH\"] = 'webbpsf-data'\n",
    "os.environ[\"PYSYN_CDBS\"] = \"cdbs\"\n",
    "from astropy.io import fits\n",
    "import jax\n",
    "import jax.numpy as jnp\n",
    "import matplotlib.pyplot as plt\n",
    "import numpy as np\n",
    "import os\n",
    "os.environ['XLA_PYTHON_CLIENT_MEM_FRACTION'] = '0.15'\n",
    "jax.config.update(\"jax_enable_x64\", True)\n",
    "import pandas as pd\n",
    "from optimization.optimize_framework import Optimizer, OptimizeUtils\n",
    "from disk_model.objective_functions import objective_model, objective_ll, objective_fit, Parameter_Index\n",
    "from disk_model.SLD_ojax import ScatteredLightDisk\n",
    "from disk_model.SLD_utils import *"
   ]
  },
  {
   "cell_type": "code",
   "execution_count": 2,
   "id": "ed8fa908",
   "metadata": {},
   "outputs": [],
   "source": [
    "### things to change ###\n",
    "name = 'hd145560_H_pol'\n",
    "disk_name = \"HD145560\"\n",
    "num_knots = 6\n",
    "########################\n",
    "\n",
    "fits_image_filepath = \"/home/blewis/GPI_data/\" + str(name) + \".fits\"\n",
    "hdul = fits.open(fits_image_filepath)\n",
    "\n",
    "target_image = OptimizeUtils.process_image(hdul['SCI'].data[1,:,:])\n",
    "err_map = OptimizeUtils.process_image(OptimizeUtils.create_empirical_err_map(hdul['SCI'].data[2,:,:]))\n",
    "misc_params = Parameter_Index.misc_params\n",
    "\n",
    "spf_params = InterpolatedUnivariateSpline_SPF.params\n",
    "psf_params = EMP_PSF.params\n",
    "disk_params = Parameter_Index.disk_params\n",
    "\n",
    "image_data = pd.read_csv('image_info_filt.csv')\n",
    "image_data.set_index(\"Name\", inplace=True)\n",
    "image_data.columns = [\"Radius\", \"Inclination\", \"Position Angle\", \"Distance\", \"a_in\", \"a_out\", \"eccentricity\", \"ksi0\", \"gamma\", \"beta\", \"omega\", \"x_center\", \"y_center\", \"knots\"]\n",
    "row = image_data.loc[name]\n",
    "\n",
    "disk_params['sma'] = row[\"Radius\"]\n",
    "disk_params['inclination'] = row[\"Inclination\"]\n",
    "disk_params['position_angle'] = row[\"Position Angle\"]\n",
    "misc_params['distance'] = row[\"Distance\"]\n",
    "spf_params['num_knots'] = num_knots\n",
    "spf_params['knot_values'] = jnp.full(spf_params['num_knots'],0.5)\n",
    "disk_params['alpha_in'] = row['a_in']\n",
    "disk_params['alpha_out'] = row['a_out']\n",
    "disk_params['e'] = row['eccentricity']\n",
    "disk_params['ksi0'] = row['ksi0']\n",
    "disk_params['gamma'] = row['gamma']\n",
    "disk_params['beta'] = row['beta']\n",
    "disk_params['omega'] = row['omega']\n",
    "disk_params['x_center'] = 70\n",
    "disk_params['y_center'] = 70"
   ]
  },
  {
   "cell_type": "code",
   "execution_count": 3,
   "id": "ca38c462",
   "metadata": {},
   "outputs": [
    {
     "name": "stdout",
     "output_type": "stream",
     "text": [
      "         Current function value: 42786.771137\n",
      "         Iterations: 126\n",
      "         Function evaluations: 4129\n",
      "         Gradient evaluations: 206\n",
      "  message: Desired error not necessarily achieved due to precision loss.\n",
      "  success: False\n",
      "   status: 2\n",
      "      fun: 42786.771136943076\n",
      "        x: [ 7.153e+00 -1.407e+00 ...  2.100e+00  3.466e-01]\n",
      "      nit: 126\n",
      "      jac: [ 8.789e-03 -2.148e-02 ... -1.367e-02  1.465e-03]\n",
      " hess_inv: [[ 6.560e-01  4.939e-01 ...  1.396e-02 -2.933e-02]\n",
      "            [ 4.939e-01  4.909e-01 ...  1.151e-02 -3.070e-02]\n",
      "            ...\n",
      "            [ 1.396e-02  1.151e-02 ...  2.115e-02  5.657e-03]\n",
      "            [-2.933e-02 -3.070e-02 ...  5.657e-03  2.818e-02]]\n",
      "     nfev: 4129\n",
      "     njev: 206\n",
      "Saved human readable file to ../GPI_results/HD145560_scipyminimize_hrparams.txt\n",
      "Saved machine readable files to json in ../GPI_results\n"
     ]
    }
   ],
   "source": [
    "opt = Optimizer(disk_params, spf_params, psf_params, misc_params, \n",
    "                ScatteredLightDisk, DustEllipticalDistribution2PowerLaws, InterpolatedUnivariateSpline_SPF, EMP_PSF)\n",
    "opt.name = disk_name\n",
    "fit_keys = ['alpha_in', 'alpha_out', 'sma', 'e', 'ksi0','gamma','beta','omega','inclination', 'position_angle', 'x_center', 'y_center', 'flux_scaling','knot_values']\n",
    "array_params = ['knot_values']\n",
    "logscaled_params = []\n",
    "opt.inc_bound_knots()\n",
    "opt.scale_initial_knots(target_image)\n",
    "\n",
    "##initial minimization\n",
    "\n",
    "soln = opt.scipy_optimize(fit_keys, logscaled_params, array_params, target_image, err_map, disp_soln=True,iters = 1000)\n",
    "opt.scale_spline_to_fixed_point(0, 1)\n",
    "opt.save_human_readable('../GPI_results')\n",
    "opt.save_machine_readable('../GPI_results')\n",
    "\n",
    "##bounded minimization\n",
    "\n",
    "bounds = ([0.01, -45,   0, 0,0.01, 0.01,-15,-20,   0, -20, 60,  60,    0, np.zeros(num_knots)],\n",
    "          [45, -0.01, 150, 1, 200,  200, 15,380, 180, 380, 90,  90,  5e6, 1e4*np.ones(num_knots)])\n",
    "\n",
    "#soln = opt.scipy_bounded_optimize(fit_keys, bounds, logscaled_params, array_params, target_image, err_map, disp_soln=True,iters = 1000)\n",
    "opt.scale_spline_to_fixed_point(0, 1)\n",
    "#opt.save_human_readable('../GPI_results')\n",
    "#opt.save_machine_readable('../GPI_results')\n",
    "\n",
    "optimal_image = opt.model()\n",
    "optimal_ll = opt.log_likelihood(target_image,err_map)"
   ]
  },
  {
   "cell_type": "code",
   "execution_count": 5,
   "id": "e44d1b5e",
   "metadata": {},
   "outputs": [
    {
     "name": "stdout",
     "output_type": "stream",
     "text": [
      "Disk Params: {'accuracy': 0.005, 'alpha_in': 7.153399753770394, 'alpha_out': -1.4066407234928904, 'sma': 78.13262695630073, 'e': 0.019320392682294973, 'ksi0': 2.6685151296106913, 'gamma': 4.4881328117220285, 'beta': -0.8489088845470345, 'rmin': 0.0, 'dens_at_r0': 1.0, 'inclination': 44.38643025223475, 'position_angle': 221.4871044517139, 'x_center': 200, 'y_center': 72.6255670037132, 'halfNbSlices': 25, 'omega': 32.60329372881276}\n",
      "SPF Params: {'low_bound': -0.6934018282758131, 'up_bound': 0.693401828275813, 'num_knots': 6, 'knot_values': Array([1.95534421, 1.52891049, 1.27784849, 0.72444227, 0.48905773,\n",
      "       0.08073561], dtype=float64)}\n",
      "PSF Params: {'scale_factor': 1, 'offset': 1}\n",
      "Misc Params: {'distance': 120.44, 'pxInArcsec': 0.01414, 'nx': 140, 'ny': 140, 'halfNbSlices': 25, 'flux_scaling': 1582.0712589612685}\n",
      "Loaded machine readable files from json in ../GPI_results\n",
      "Disk Params: {'accuracy': 0.005, 'alpha_in': 7.153399753770394, 'alpha_out': -1.4066407234928904, 'sma': 78.13262695630073, 'e': 0.019320392682294973, 'ksi0': 2.6685151296106913, 'gamma': 4.4881328117220285, 'beta': -0.8489088845470345, 'rmin': 0.0, 'dens_at_r0': 1.0, 'inclination': 44.38643025223475, 'position_angle': 221.4871044517139, 'x_center': 73.0033122726021, 'y_center': 72.6255670037132, 'halfNbSlices': 25, 'omega': 32.60329372881276}\n",
      "SPF Params: {'low_bound': -0.6934018282758131, 'up_bound': 0.693401828275813, 'num_knots': 6, 'knot_values': Array([1.95534421, 1.52891049, 1.27784849, 0.72444227, 0.48905773,\n",
      "       0.08073561], dtype=float64)}\n",
      "PSF Params: {'scale_factor': 1, 'offset': 1}\n",
      "Misc Params: {'distance': 120.44, 'pxInArcsec': 0.01414, 'nx': 140, 'ny': 140, 'halfNbSlices': 25, 'flux_scaling': 1582.0712589612685}\n"
     ]
    }
   ],
   "source": [
    "opt.disk_params['x_center'] = 200\n",
    "opt.print_params()\n",
    "opt.load_machine_readable('../GPI_results')\n",
    "opt.print_params()"
   ]
  },
  {
   "cell_type": "code",
   "execution_count": null,
   "id": "18cd0b1b",
   "metadata": {},
   "outputs": [],
   "source": [
    "opt.print_params()"
   ]
  },
  {
   "cell_type": "code",
   "execution_count": null,
   "id": "1055d85f",
   "metadata": {},
   "outputs": [],
   "source": [
    "fig, axes = plt.subplots(1,3, figsize=(20,10))\n",
    "mask = OptimizeUtils.get_mask(target_image)\n",
    "vmin = np.nanpercentile(target_image[mask], 5)\n",
    "vmax = np.nanpercentile(target_image[mask], 95)\n",
    "\n",
    "xmax=70\n",
    "extent = [-(xmax*14.1)/2000, (xmax*14.1)/2000, (xmax*14.1)/2000, -(xmax*14.1)/2000]\n",
    "\n",
    "for ax in axes:\n",
    "    ax.tick_params(axis='both', which='major', labelsize=12)\n",
    "\n",
    "mask_circle1 = plt.Circle((0,0), (9/2)*float(misc_params['pxInArcsec']), color='white')\n",
    "mask_circle2 = plt.Circle((0,0), (9/2)*float(misc_params['pxInArcsec']), color='white')\n",
    "mask_circle3 = plt.Circle((0,0), (9/2)*float(misc_params['pxInArcsec']), color='white')\n",
    "\n",
    "im = axes[0].imshow(target_image, origin='lower', cmap='inferno',extent=extent,vmin=vmin,vmax=vmax)\n",
    "axes[0].set_title(\"Data\",fontsize=16)\n",
    "axes[0].set_ylabel('$\\Delta$RA (arcsec)',fontsize=14)\n",
    "axes[0].set_xlabel('$\\Delta$Dec (arcsec)',fontsize=14)\n",
    "axes[0].add_artist(mask_circle1)\n",
    "#plt.colorbar(im, ax=axes[0], shrink=0.5)\n",
    "im.set_clim(vmin, vmax)\n",
    "\n",
    "im = axes[1].imshow(optimal_image, origin='lower', cmap='inferno',extent=extent,vmin=vmin,vmax=vmax)\n",
    "axes[1].set_title(\"Initial Best Fit Model\",fontsize=16)\n",
    "#plt.colorbar(im, ax=axes[1], shrink=0.5)\n",
    "im.set_clim(vmin, vmax)\n",
    "axes[1].set_xlabel('$\\Delta$Dec (arcsec)',fontsize=14)\n",
    "axes[1].add_artist(mask_circle2)\n",
    "\n",
    "im = axes[2].imshow(target_image-optimal_image, origin='lower', cmap='inferno',extent=extent,vmin=vmin,vmax=10)\n",
    "axes[2].set_title(\"Residuals\",fontsize=16)\n",
    "im.set_clim(vmin, vmax)\n",
    "axes[2].set_xlabel('$\\Delta$Dec (arcsec)',fontsize=14)\n",
    "plt.tight_layout()\n",
    "cb = plt.colorbar(im, ax=axes, shrink=0.5,pad=0.01)\n",
    "cb.set_label('Arbitrary Flux Units',fontsize=14)#,rotation=270)\n",
    "cb.ax.tick_params(labelsize=12)\n",
    "axes[2].add_artist(mask_circle3)\n",
    "plt.savefig('../GPI_results/{}_scipyboundminimize_fit.png'.format(disk_name))"
   ]
  },
  {
   "cell_type": "code",
   "execution_count": null,
   "id": "9b030793",
   "metadata": {},
   "outputs": [],
   "source": [
    "spf1 = opt.spf_params\n",
    "\n",
    "hi = np.rad2deg(np.arccos(spf1['low_bound']))\n",
    "lo = np.rad2deg(np.arccos(spf1['up_bound']))\n",
    "print(hi,lo)\n",
    "\n",
    "print(spf1['knot_values'])\n",
    "spf = spline_func.InterpolatedUnivariateSpline(np.linspace(lo,hi,num_knots),spf1['knot_values'])\n",
    "\n",
    "func = spf.__call__(np.linspace(0,180,100))\n",
    "\n",
    "import matplotlib.pyplot as plt\n",
    "plt.plot(np.linspace(0,180,100),func,label='Interpolation')\n",
    "plt.scatter(np.linspace(lo,hi,num_knots),spf1['knot_values'],color='orange',label='Knots')\n",
    "ax = plt.gca()\n",
    "ax.axvspan(hi,180,alpha=0.5,color='grey',hatch='/')\n",
    "ax.axvspan(0,lo,alpha=0.5,color='grey',hatch='/')\n",
    "\n",
    "###CHANGE NAMES\n",
    "plt.title('{} Pol SPF Initial Fit ({} knots)'.format(disk_name, num_knots))\n",
    "plt.xlabel('Scattering Angle (degrees)')\n",
    "plt.ylabel('Arbitrary Units')\n",
    "plt.legend()\n",
    "plt.xlim(0,180)\n",
    "plt.ylim(-0.1,10)\n",
    "plt.savefig('../GPI_results/best_fits/{}_scipyboundminimize_pol_spf.png'.format(disk_name),bbox_inches='tight')"
   ]
  },
  {
   "cell_type": "code",
   "execution_count": null,
   "id": "e23ded99",
   "metadata": {},
   "outputs": [],
   "source": [
    "##important! number of steps, continue from\n",
    "\n",
    "mc_model = opt.mcmc(fit_keys, logscaled_params, array_params,target_image, err_map, bounds, nwalkers=100, niter=4600, burns=20, continue_from=True)"
   ]
  },
  {
   "cell_type": "code",
   "execution_count": null,
   "id": "23422c8e",
   "metadata": {},
   "outputs": [],
   "source": [
    "mc_soln = np.median(mc_model.sampler.flatchain, axis=0)\n",
    "img = opt.model()\n",
    "opt.print_params()\n",
    "samples = mc_model.sampler.get_chain()"
   ]
  },
  {
   "cell_type": "code",
   "execution_count": null,
   "id": "fd2e73e5",
   "metadata": {},
   "outputs": [],
   "source": [
    "fig, axes = plt.subplots(1,3, figsize=(20,10))\n",
    "mask = OptimizeUtils.get_mask(target_image)\n",
    "vmin = np.nanpercentile(target_image[mask], 1)\n",
    "vmax = np.nanpercentile(target_image[mask], 99)\n",
    "\n",
    "xmax=70\n",
    "extent = [-(xmax*14.1)/2000, (xmax*14.1)/2000, (xmax*14.1)/2000, -(xmax*14.1)/2000]\n",
    "\n",
    "for ax in axes:\n",
    "    ax.tick_params(axis='both', which='major', labelsize=12)\n",
    "\n",
    "mask_circle1 = plt.Circle((0,0), (9/2)*float(misc_params['pxInArcsec']), color='white')\n",
    "mask_circle2 = plt.Circle((0,0), (9/2)*float(misc_params['pxInArcsec']), color='white')\n",
    "mask_circle3 = plt.Circle((0,0), (9/2)*float(misc_params['pxInArcsec']), color='white')\n",
    "\n",
    "im = axes[0].imshow(target_image, origin='lower', cmap='inferno',extent=extent,vmin=vmin,vmax=vmax)\n",
    "axes[0].set_title(\"Data\",fontsize=16)\n",
    "axes[0].set_ylabel('$\\Delta$RA (arcsec)',fontsize=14)\n",
    "axes[0].set_xlabel('$\\Delta$Dec (arcsec)',fontsize=14)\n",
    "#plt.colorbar(im, ax=axes[0], shrink=0.5)\n",
    "axes[0].add_artist(mask_circle1)\n",
    "im.set_clim(vmin, vmax)\n",
    "\n",
    "im = axes[1].imshow(img, origin='lower', cmap='inferno',extent=extent,vmin=vmin,vmax=vmax)\n",
    "axes[1].set_title(\"MCMC Best Fit Model\",fontsize=16)\n",
    "#plt.colorbar(im, ax=axes[1], shrink=0.5)\n",
    "im.set_clim(vmin, vmax)\n",
    "axes[1].set_xlabel('$\\Delta$Dec (arcsec)',fontsize=14)\n",
    "axes[1].add_artist(mask_circle2)\n",
    "\n",
    "im = axes[2].imshow(target_image-img, origin='lower', cmap='inferno',extent=extent,vmin=vmin,vmax=vmax)\n",
    "axes[2].set_title(\"Residuals\",fontsize=16)\n",
    "im.set_clim(vmin, vmax)\n",
    "axes[2].set_xlabel('$\\Delta$Dec (arcsec)',fontsize=14)\n",
    "axes[2].add_artist(mask_circle3)\n",
    "plt.tight_layout()\n",
    "cb = plt.colorbar(im, ax=axes, shrink=0.5,pad=0.01)\n",
    "cb.set_label('Arbitrary Flux Units',fontsize=14)#,rotation=270)\n",
    "cb.ax.tick_params(labelsize=12)\n",
    "plt.savefig('../GPI_results/{}_MCMC_fit.png'.format(disk_name))"
   ]
  },
  {
   "cell_type": "code",
   "execution_count": null,
   "id": "520a9be3",
   "metadata": {},
   "outputs": [],
   "source": [
    "spf1 = opt.spf_params\n",
    "\n",
    "hi = np.rad2deg(np.arccos(spf1['low_bound']))\n",
    "lo = np.rad2deg(np.arccos(spf1['up_bound']))\n",
    "print(hi,lo)\n",
    "\n",
    "print(spf1['knot_values'])\n",
    "spf = spline_func.InterpolatedUnivariateSpline(np.linspace(lo,hi,num_knots),spf1['knot_values'])\n",
    "\n",
    "func = spf.__call__(np.linspace(0,180,100))\n",
    "\n",
    "import matplotlib.pyplot as plt\n",
    "plt.plot(np.linspace(0,180,100),func,label='Interpolation')\n",
    "plt.scatter(np.linspace(lo,hi,num_knots),spf1['knot_values'],color='orange',label='Knots')\n",
    "ax = plt.gca()\n",
    "ax.axvspan(hi,180,alpha=0.5,color='grey',hatch='/')\n",
    "ax.axvspan(0,lo,alpha=0.5,color='grey',hatch='/')\n",
    "\n",
    "###CHANGE NAMES\n",
    "plt.title('{} Pol SPF Initial Fit ({} knots)'.format(disk_name, num_knots))\n",
    "plt.xlabel('Scattering Angle (degrees)')\n",
    "plt.ylabel('Arbitrary Units')\n",
    "plt.legend()\n",
    "plt.xlim(0,180)\n",
    "plt.ylim(-0.1,10)\n",
    "plt.savefig('../GPI_results/best_fits/{}_MCMC_pol_spf.png'.format(disk_name),bbox_inches='tight')"
   ]
  },
  {
   "cell_type": "code",
   "execution_count": null,
   "id": "78a4bd8f",
   "metadata": {},
   "outputs": [],
   "source": [
    "labels = '$\\\\alpha_{in}$', '$\\\\alpha_{out}$', 'Semimajor Axis', 'Eccentricity', '$\\\\xi__0$', '$\\\\gamma$', '$\\\\beta$', '$\\\\omega$', '$i$', 'PA', 'x$_{c}$', 'y$_{c}$', 'Flux Scaling']\n",
    "for i in range(0, opt.spf_params['num_knots']):\n",
    "    labels.append('Knot '+str(i+1))\n",
    "mc_model.plot_chains(labels)\n",
    "plt.savefig('../GPI_results/{}_MCMC_chains.png'.format(disk_name),bbox_inches='tight')"
   ]
  },
  {
   "cell_type": "code",
   "execution_count": null,
   "id": "d58b1a38",
   "metadata": {},
   "outputs": [],
   "source": [
    "mc_model.show_corner_plot(labels, truths=mc_soln)\n",
    "plt.savefig('../GPI_results/{}_MCMC_corner.png'.format(disk_name),bbox_inches='tight')"
   ]
  },
  {
   "cell_type": "code",
   "execution_count": null,
   "id": "fd336d2c",
   "metadata": {},
   "outputs": [],
   "source": [
    "mc_model.sampler.get_autocorr_time()"
   ]
  }
 ],
 "metadata": {
  "kernelspec": {
   "display_name": "base",
   "language": "python",
   "name": "python3"
  },
  "language_info": {
   "codemirror_mode": {
    "name": "ipython",
    "version": 3
   },
   "file_extension": ".py",
   "mimetype": "text/x-python",
   "name": "python",
   "nbconvert_exporter": "python",
   "pygments_lexer": "ipython3",
   "version": "3.12.7"
  }
 },
 "nbformat": 4,
 "nbformat_minor": 5
}
