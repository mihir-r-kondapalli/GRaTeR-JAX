{
 "cells": [
  {
   "cell_type": "code",
   "execution_count": 1,
   "id": "916d7274",
   "metadata": {},
   "outputs": [
    {
     "name": "stderr",
     "output_type": "stream",
     "text": [
      "/home/blewis/anaconda3/lib/python3.12/site-packages/cupyx/jit/_interface.py:173: FutureWarning: cupyx.jit.rawkernel is experimental. The interface can change in the future.\n",
      "  cupy._util.experimental('cupyx.jit.rawkernel')\n"
     ]
    },
    {
     "name": "stdout",
     "output_type": "stream",
     "text": [
      "webbpsf_ext log messages of level WARN and above will be shown.\n",
      "webbpsf_ext log outputs will be directed to the screen.\n",
      "CuPy succesfully imported. Using GPU where applicable. Set use_gpu=False to override this functionality.\n"
     ]
    }
   ],
   "source": [
    "import GPI_init_fit as gpi\n",
    "from astropy.stats import bayesian_info_criterion as bic\n",
    "from astropy.stats import akaike_info_criterion as aic"
   ]
  },
  {
   "cell_type": "code",
   "execution_count": 10,
   "id": "66da0387",
   "metadata": {},
   "outputs": [
    {
     "name": "stdout",
     "output_type": "stream",
     "text": [
      "hd145560_H_pol\n"
     ]
    }
   ],
   "source": [
    "import glob\n",
    "list = glob.glob('../GPI_data/*.fits')\n",
    "print(list[0].split('/')[2].split(\".\")[0])"
   ]
  },
  {
   "cell_type": "code",
   "execution_count": null,
   "id": "54b4051c",
   "metadata": {},
   "outputs": [],
   "source": [
    "for l in list:\n",
    "    name = l.split('/')[2].split(\".\")[0]\n",
    "    print('running initial fits for '+name)\n",
    "    for k in range(4,11):\n",
    "        model, params, ll, spf = gpi.init_fit(name,num_knots=k,save=True)\n",
    "        print('for {} knots: '.format(k))\n",
    "        print('ll: ',ll)\n",
    "        print('AIC: ',aic(ll, len(params)+len(spf),32400))\n",
    "        print('BIC: ',bic(ll, len(params)+len(spf),32400))\n",
    "        print('\\n')\n",
    "        bic_n = bic(ll, len(params)+len(spf),32400)\n",
    "        if bic_n<bic:\n",
    "            model_best = model\n",
    "            params_best = params\n",
    "            ll_best = ll\n",
    "            spf_best = spf\n",
    "            bic_best = bic_n\n",
    "    print('Best model for {}: {} knots'.format(name, k))"
   ]
  }
 ],
 "metadata": {
  "kernelspec": {
   "display_name": "base",
   "language": "python",
   "name": "python3"
  },
  "language_info": {
   "codemirror_mode": {
    "name": "ipython",
    "version": 3
   },
   "file_extension": ".py",
   "mimetype": "text/x-python",
   "name": "python",
   "nbconvert_exporter": "python",
   "pygments_lexer": "ipython3",
   "version": "3.12.7"
  }
 },
 "nbformat": 4,
 "nbformat_minor": 5
}
